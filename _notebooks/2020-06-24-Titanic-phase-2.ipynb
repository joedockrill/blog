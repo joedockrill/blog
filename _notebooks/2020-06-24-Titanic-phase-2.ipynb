{
  "nbformat": 4,
  "nbformat_minor": 0,
  "metadata": {
    "colab": {
      "name": "2020-06-24-Titanic-phase-2.ipynb",
      "provenance": [],
      "authorship_tag": "ABX9TyMS1+8OHgGuUNAIc7mk6jka"
    },
    "kernelspec": {
      "name": "python3",
      "display_name": "Python 3"
    }
  },
  "cells": [
    {
      "cell_type": "markdown",
      "metadata": {
        "id": "75M7FI3temgA",
        "colab_type": "text"
      },
      "source": [
        "# \"Titanic phase 2\"\n",
        "\n",
        "- toc: true\n",
        "- badges: true\n",
        "- comments: true\n",
        "- categories: [Kaggle, Titanic]"
      ]
    },
    {
      "cell_type": "markdown",
      "metadata": {
        "id": "WpJTyMBWetWR",
        "colab_type": "text"
      },
      "source": [
        "I’ve finished my Data Science Bootcamp course and I’m a bit more free to focus on whatever I want now, so I’m going to take one more crack at the Titanic problem on Kaggle.\n",
        "\n",
        "Now I know a bit more than I did the first time around, I can do a slightly better job at data cleaning and feature engineering, but mainly I thought I’d try something technically known as “not throwing random models I don’t understand properly at the data”.\n",
        "\n",
        "It’s something I think most beginners in the Titanic competition go through. After trying a basic logistic regression, we discover a mass of different classifier types we didn’t know existed so we try a bunch from other peoples notebooks (only most of them have also cut & pasted from other places without understanding them either).\n",
        "\n",
        "I’m going to go and sit in the corner now and learn **properly** about how the different types of model work (hence why I was learning about the monkeys inside the random forest).\n",
        "\n",
        "Then I’m going to try the ones which actually make some sense, then I’m going to have a good crack at a TensorFlow, and then I’m going to get on with something else.\n",
        "\n",
        "See you in a bit…"
      ]
    }
  ]
}