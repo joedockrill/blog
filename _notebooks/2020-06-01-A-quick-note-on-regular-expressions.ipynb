{
  "nbformat": 4,
  "nbformat_minor": 0,
  "metadata": {
    "colab": {
      "name": "2020-06-01-A-quick-note-on-regular-expressions.ipynb",
      "provenance": [],
      "collapsed_sections": [],
      "authorship_tag": "ABX9TyN/Um9TGLAfX83yarprwMIe"
    },
    "kernelspec": {
      "name": "python3",
      "display_name": "Python 3"
    }
  },
  "cells": [
    {
      "cell_type": "markdown",
      "metadata": {
        "id": "QNoV9WbTdWVp",
        "colab_type": "text"
      },
      "source": [
        "# \"A quick note on regular expressions\"\n",
        "> \"Why regular expressions are awesome and you should learn them.\"\n",
        "\n",
        "- toc: true\n",
        "- badges: true\n",
        "- comments: true\n",
        "- categories: [Misc]"
      ]
    },
    {
      "cell_type": "markdown",
      "metadata": {
        "id": "ernIubsfV4J1",
        "colab_type": "text"
      },
      "source": [
        "In the last post I included a code snippet which uses a regular expression to extract the title from a name in the titanic data.\n",
        "\n",
        "It just occurred to me that a lot of the people reading the blogs of beginner data scientists, if they aren’t hiring managers (Hi, I love you!), are probably also beginner data scientists, and in a lot of cases, probably quite new to programming. Regular expression patterns (sometimes known as regex) are something you should know about.\n",
        "\n",
        "Regular expressions can do quite complicated text pattern matching which would often take some quite cumbersome code otherwise. They take a bit of learning and getting used to but I’ll give you the briefest introduction so you can at least understand why it’s worth the effort to learn.\n",
        "\n",
        "If you’ve already written something similar using string indexing functions, you’re not going to take long to convince.\n",
        "\n",
        "The names in the titanic data look like these:\n",
        "\n",
        "| Name |\n",
        "| ----------------------------------------------  |\n",
        "| Braund, Mr. Owen Harris |\n",
        "| Cumings, Mrs. John Bradley (Florence Briggs Th… |\n",
        "| Heikkinen, Miss. Laina |\n",
        "| Futrelle, Mrs. Jacques Heath (Lily May Peel) |\n",
        "| Allen, Mr. William Henry |\n",
        "\n",
        "The regular expression I started using to process them was this: `[^,]*,\\s([^.]*)` which breaks down into 3 sections, explained with the example `“Braund, Mr. Owen Harris”`.\n",
        "\n",
        "| RegEx\t  | Matches\tText |\n",
        "| ------- | ------------------------------------------------ |\n",
        "| [^,]*\t  | Anything except a comma, multiple times\t“Braund” |\n",
        "| ,\\s\t    | A comma followed by a space\t“, “ |\n",
        "| ([^.]*)\t| Anything except a period, multiple times\t“Mr” |\n",
        "\n",
        "The brackets around the third part mean that it is a match group, which we can use to extract the actual value in our code. If I’d wanted to know the surname as well (maybe to turn the name into `“Mr Braund”`) I could have placed brackets around the first part and the third part of the pattern and extracted them both.\n",
        "\n",
        "This pattern needed a slight tweak as it failed on one name in the training data. `“Rothes, the Countess. of (Lucy Noel Martha Dye…”`. This was returning `“the Countess”` in the match group instead of `“Countess”`.\n",
        "\n",
        "The new pattern is `[^,]*,\\s(the\\s)?([^.]*)`. A question mark in a regex means zero or one times and the match object returns None when the pattern doesn’t find the optional “the ” in the name. I ignore it anyway and return the second match group which contains the title I’m after."
      ]
    },
    {
      "cell_type": "code",
      "metadata": {
        "id": "wPxSfwvLXl2R",
        "colab_type": "code",
        "colab": {}
      },
      "source": [
        "import re\n",
        " \n",
        "def ExtractTitle(name):\n",
        "  ptn = \"[^,]*,\\s(the\\s)?([^\\.]*)\"   \n",
        "  p = re.compile(ptn, re.IGNORECASE)\n",
        "  m = p.match(name)\n",
        "\n",
        "  if m is not None:\n",
        "    return m.group(2)\n",
        "  else:\n",
        "    print(\"FAILED EXTRACTING TITLE FROM: \" + name)\n",
        "    return None"
      ],
      "execution_count": null,
      "outputs": []
    },
    {
      "cell_type": "markdown",
      "metadata": {
        "id": "s17yjok7Xil5",
        "colab_type": "text"
      },
      "source": [
        "\n",
        "You should at least now understand how powerful regex patterns can be, and this is probably one of the simplest examples you’re likely to find. If you think about something even a tiny bit more complicated like an email address and the many different ways they can appear, if you try extracting them from larger blocks of text using string indexing functions, you’re going to have a migraine quite quickly.\n",
        "\n",
        "Luckily, regular expressions have been around since 1951 and appear in some form in most programming languages, even if you have to download a third-party library. Python has a built-in package for them so you just need to import re.\n",
        "\n",
        "Lastly the web is full of websites which teach you regular expressions and help you build them. [RegExr](http://regexr.com) has a great visual editor which lets you edit the pattern with test text underneath so you can see in real time what your changes are doing. There are plenty more like this. Go and play…\n",
        "\n"
      ]
    }
  ]
}