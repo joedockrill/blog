{
  "nbformat": 4,
  "nbformat_minor": 0,
  "metadata": {
    "colab": {
      "name": "2020-07-13-Image-scraping-duckduckgo-and-google.ipynb",
      "provenance": [],
      "collapsed_sections": [
        "ONIqIEu7VyT4",
        "pvM0imifGwOY"
      ],
      "mount_file_id": "17f9l2cUPK2Yis_4A_YzzeEOqOPafTy5t",
      "authorship_tag": "ABX9TyMMFXWBWxhkWWA8y6Niob1S"
    },
    "kernelspec": {
      "name": "python3",
      "display_name": "Python 3"
    }
  },
  "cells": [
    {
      "cell_type": "markdown",
      "metadata": {
        "id": "q44jBo_X0zsT",
        "colab_type": "text"
      },
      "source": [
        "# \"Image scraping DuckDuckGo and Google\"\n",
        "> \"Image scraper notebook for creating DL datasets\"\n",
        "\n",
        "- toc: true\n",
        "- badges: true\n",
        "- comments: true\n",
        "- categories: [DL]"
      ]
    },
    {
      "cell_type": "code",
      "metadata": {
        "id": "VpXxskqU70lb",
        "colab_type": "code",
        "colab": {}
      },
      "source": [
        "#hide\n",
        "from IPython.display import Image as IPImage\n",
        "\n",
        "def show_image(url):\n",
        "  display(IPImage(url=url))\n",
        "\n",
        "def blog_image(fn):\n",
        "  show_image(\"https://joedockrill.github.io/blog/images/\" + fn)"
      ],
      "execution_count": 4,
      "outputs": []
    },
    {
      "cell_type": "markdown",
      "metadata": {
        "id": "zga2kYYG1b4R",
        "colab_type": "text"
      },
      "source": [
        "I’ve written a notebook for scraping images from DuckDuckGo and Google for the purpose of creating DL datasets.\n",
        "\n"
      ]
    },
    {
      "cell_type": "markdown",
      "metadata": {
        "id": "xaIIMbE-2hym",
        "colab_type": "text"
      },
      "source": [
        "You download images by labels like so:"
      ]
    },
    {
      "cell_type": "code",
      "metadata": {
        "id": "8vw7K4ULGz-8",
        "colab_type": "code",
        "colab": {}
      },
      "source": [
        "ZIP_NAME = \"pets.zip\"\n",
        "\n",
        "duckduckgo_search(\"Dogs\", \"dogs puppies\", max_results=20)\n",
        "duckduckgo_search(\"Cats\", \"cats kittens\", max_results=20)\n",
        "duckduckgo_search(\"Birds\", \"parrots budgies cockatoos\", max_results=20)"
      ],
      "execution_count": null,
      "outputs": []
    },
    {
      "cell_type": "code",
      "metadata": {
        "id": "KqXh4Vq-78w2",
        "colab_type": "code",
        "colab": {
          "base_uri": "https://localhost:8080/",
          "height": 232
        },
        "outputId": "daaed361-3a15-4717-93c5-509b4eaf2d8b"
      },
      "source": [
        "#hide_input\n",
        "blog_image(\"scr_dl.jpg\")"
      ],
      "execution_count": 27,
      "outputs": [
        {
          "output_type": "display_data",
          "data": {
            "text/html": [
              "<img src=\"https://joedockrill.github.io/blog/images/scr_dl.jpg\"/>"
            ],
            "text/plain": [
              "<IPython.core.display.Image object>"
            ]
          },
          "metadata": {
            "tags": []
          }
        }
      ]
    },
    {
      "cell_type": "markdown",
      "metadata": {
        "id": "mbn8dImz11qN",
        "colab_type": "text"
      },
      "source": [
        "You can constrain DDG searches as follows:\n",
        "\n",
        "```\n",
        "duckduckgo_search(label: str, keywords: str, max_results: int=100,\n",
        "                      img_size: ImgSize=ImgSize.Thumbs, \n",
        "                      img_type: ImgType=ImgType.Photo,\n",
        "                      img_layout: ImgLayout=ImgLayout.Square,\n",
        "                      img_color: ImgColor=ImgColor.All) -> None:\n",
        "\n",
        "img_size can be one of the following: (default=ImgSize.Thumbs)\n",
        "Thumbs, Small, Medium, Large, Wallpaper\n",
        " \n",
        "img_type can be one of the following: (default=ImgType.Photo)\n",
        "All, Photo, Clipart, Gif, Transparent\n",
        "\n",
        "img_layout can be one of the following: (default=ImgLayout.Square)\n",
        "All, Square, Tall, Wide\n",
        "  \n",
        "img_color can be one of the following: (default = ImgColor.All)\n",
        "All, Color, Monochrome, Red, Orange, Yellow, Green, Blue, Purple, Pink, Brown, Black, Gray, Teal, White\n",
        "```"
      ]
    },
    {
      "cell_type": "markdown",
      "metadata": {
        "id": "j4dwxx_b0pRV",
        "colab_type": "text"
      },
      "source": [
        "Then you can run an image cleaner inside the notebook to get rid of anything which doesn't belong."
      ]
    },
    {
      "cell_type": "code",
      "metadata": {
        "id": "fAqgMnZN8GK9",
        "colab_type": "code",
        "colab": {
          "base_uri": "https://localhost:8080/",
          "height": 553
        },
        "outputId": "901c1611-1330-45d4-c90d-3c3942151108"
      },
      "source": [
        "#hide_input\n",
        "blog_image(\"scr_clean.jpg\")"
      ],
      "execution_count": 18,
      "outputs": [
        {
          "output_type": "display_data",
          "data": {
            "text/html": [
              "<img src=\"https://joedockrill.github.io/blog/images/scr_clean.jpg\"/>"
            ],
            "text/plain": [
              "<IPython.core.display.Image object>"
            ]
          },
          "metadata": {
            "tags": []
          }
        }
      ]
    },
    {
      "cell_type": "markdown",
      "metadata": {
        "id": "H6KTdjEY0Fix",
        "colab_type": "text"
      },
      "source": [
        "After that you zip it all up, an either download it or transfer it to your Google Drive.\n",
        "\n",
        "You can also distribute CSV files with URLs/label pairs if you want a massive dataset and a small distributable, and have people download the images themselves.\n",
        "\n",
        "You can find it here: [github.com/joedockrill/image-scraper](https://github.com/joedockrill/image-scraper)"
      ]
    }
  ]
}