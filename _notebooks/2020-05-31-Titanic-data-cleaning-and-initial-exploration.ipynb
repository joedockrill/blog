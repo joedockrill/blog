{
  "nbformat": 4,
  "nbformat_minor": 0,
  "metadata": {
    "colab": {
      "name": "2020-05-31-Titanic-data-cleaning-and-initial-exploration.ipynb",
      "provenance": [],
      "collapsed_sections": [],
      "authorship_tag": "ABX9TyOu6vmvsMVhklu8JgJWiqUX"
    },
    "kernelspec": {
      "name": "python3",
      "display_name": "Python 3"
    }
  },
  "cells": [
    {
      "cell_type": "markdown",
      "metadata": {
        "id": "Wd-JhnfPAtHs",
        "colab_type": "text"
      },
      "source": [
        "# \"Titanic data cleaning and initial exploration\"\n",
        "\n",
        "- toc: true\n",
        "- badges: true\n",
        "- comments: true\n",
        "- categories: [Kaggle, Titanic]"
      ]
    },
    {
      "cell_type": "code",
      "metadata": {
        "id": "r8Cz_zCFAVDF",
        "colab_type": "code",
        "colab": {}
      },
      "source": [
        "#hide\n",
        "from IPython.display import Image as IPImage\n",
        "\n",
        "def show_image(url):\n",
        "  display(IPImage(url=url))\n",
        "\n",
        "def blog_image(fn):\n",
        "  show_image(\"https://joedockrill.github.io/blog/images/\" + fn)"
      ],
      "execution_count": 5,
      "outputs": []
    },
    {
      "cell_type": "markdown",
      "metadata": {
        "id": "0S24LLM_Bc-w",
        "colab_type": "text"
      },
      "source": [
        "I should really be cracking on with my data science course but I’ve gone on a tangent to play with the Titanic data.\n",
        "\n",
        "So far I have:\n",
        "\n",
        "**Engineered out a Title column from the names.** \\\n",
        "This is actually quite easy with a regular expression.\n"
      ]
    },
    {
      "cell_type": "code",
      "metadata": {
        "id": "rSKR-Nc8DgsS",
        "colab_type": "code",
        "colab": {
          "base_uri": "https://localhost:8080/",
          "height": 36
        },
        "outputId": "9fb90988-032d-4f7e-f601-5fc114399180"
      },
      "source": [
        "import re\n",
        "\n",
        "def ExtractTitle(name):\n",
        "  p = re.compile(\"[^,]*,\\s(the\\s)?([^\\.]*)\", re.IGNORECASE)\n",
        "  m = p.match(name)\n",
        "\n",
        "  assert m, \"Failed to extract title\"\n",
        "  return m.group(2)\n",
        "\n",
        "ExtractTitle(\"Braund, Mr. Owen Harris\")"
      ],
      "execution_count": 3,
      "outputs": [
        {
          "output_type": "execute_result",
          "data": {
            "application/vnd.google.colaboratory.intrinsic+json": {
              "type": "string"
            },
            "text/plain": [
              "'Mr'"
            ]
          },
          "metadata": {
            "tags": []
          },
          "execution_count": 3
        }
      ]
    },
    {
      "cell_type": "markdown",
      "metadata": {
        "id": "73L-RXNeBje0",
        "colab_type": "text"
      },
      "source": [
        "**Added a Noble flag.**\\\n",
        "This is for nobility titles like Sir, Countess, Lord, Lady etc. There actually aren’t as many of these in the train data as I expected, if there aren’t more in test then this flag may not be that helpful.\n",
        "\n",
        "**Added SexPlus column.** \\\n",
        "This is to expand male/female to man/woman/boy/girl. I expect this to be a useful feature as children were obviously not treated in the same way as adults (but I expect that boys were not treated equally to girls).\n",
        "\n",
        "I’ve chosen 16 as the cut-off point. Legally people were considered completely independent of their parents at 21 at this time, but there were a myriad of points at which children started progressing towards adulthood in different ways.\n",
        "\n",
        "All I’m interested in is how they were treated in regards to places on lifeboats, and the information from historical accounts suggests that was somewhere around 14-16 but was not clearly defined.\n",
        "\n",
        "**Dealt with missing ages.** \\\n",
        "20% of the data does not have an age set. So far I have used median ages based on Title. That’s good enough for men, boys, and married women, but for other females I should be able to look at Parch and SibSp and take a more educated guess at whether they are girls or single women.\n",
        "\n",
        "**Plotting.** \\\n",
        "After that I did some basic plotting to look at survival rates.\n"
      ]
    },
    {
      "cell_type": "code",
      "metadata": {
        "id": "8-JT3wueE3Ek",
        "colab_type": "code",
        "colab": {
          "base_uri": "https://localhost:8080/",
          "height": 327
        },
        "outputId": "0cf66830-56d3-4906-cedd-683eb82ee4e3"
      },
      "source": [
        "#hide_input\n",
        "blog_image(\"TitanicEDA1.jpg\")"
      ],
      "execution_count": 7,
      "outputs": [
        {
          "output_type": "display_data",
          "data": {
            "text/html": [
              "<img src=\"https://joedockrill.github.io/blog/images/TitanicEDA1.jpg\"/>"
            ],
            "text/plain": [
              "<IPython.core.display.Image object>"
            ]
          },
          "metadata": {
            "tags": []
          }
        }
      ]
    },
    {
      "cell_type": "markdown",
      "metadata": {
        "id": "lshyije-EyLw",
        "colab_type": "text"
      },
      "source": [
        "\n",
        "\n",
        "Unsurprisingly women and children did better than men, but within children, girls did better than boys.\n",
        "\n",
        "There’s nothing especially stunning jumping out at this point.\n",
        "\n",
        "Next I ran some regression plots to look at survival rates by age on a line."
      ]
    },
    {
      "cell_type": "code",
      "metadata": {
        "id": "IDjWr-3OFgfr",
        "colab_type": "code",
        "colab": {
          "base_uri": "https://localhost:8080/",
          "height": 492
        },
        "outputId": "8591b068-fd7e-44a6-c043-fb3c474cb5b7"
      },
      "source": [
        "#hide_input\n",
        "blog_image(\"TitanicEDA2.jpg\")"
      ],
      "execution_count": 8,
      "outputs": [
        {
          "output_type": "display_data",
          "data": {
            "text/html": [
              "<img src=\"https://joedockrill.github.io/blog/images/TitanicEDA2.jpg\"/>"
            ],
            "text/plain": [
              "<IPython.core.display.Image object>"
            ]
          },
          "metadata": {
            "tags": []
          }
        }
      ]
    },
    {
      "cell_type": "markdown",
      "metadata": {
        "id": "RrjHYnbaFfGn",
        "colab_type": "text"
      },
      "source": [
        "There is obviously at least one outlier in the male data which may be causing an issue and I need to look at trimming here. Boys and girls needs further attention, possibly by Pclass.\n",
        "\n",
        "The next things I need to investigate are:\n",
        "\n",
        "- Cabin number. I can get the deck from cabin number but I’m not sure what else, and so few of these are present that \n",
        "I don’t expect it to be much use.\n",
        "- Family groups. I need to look at Parch, SibSp, ticket numbers, cabin numbers etc and try to determine the groups \n",
        "travelling together, and add a column for GroupSize(?)\n",
        "- Ticket numbers. This may be useful as part of family processing but I’m not sure what else I can gather from these.\n",
        "- Fare. The size of the fare may be useful as fare can vary a lot even within Pclass (a 1st class berth was £30 but \n",
        "there were 2 suites going for £870 and presumably a fair bit in the middle). This needs to be in conjunction with trying \n",
        "to calculate a fare per person as some tickets prices appear to be a sum for everyone in that group.\n",
        "- Look at which interactions I want to add. I expect most of the value I’m going to add from this point to come from here."
      ]
    }
  ]
}