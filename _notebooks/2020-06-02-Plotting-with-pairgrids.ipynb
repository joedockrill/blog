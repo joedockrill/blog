{
  "nbformat": 4,
  "nbformat_minor": 0,
  "metadata": {
    "colab": {
      "name": "2020-06-02-Plotting-with-pairgrids.ipynb",
      "provenance": [],
      "collapsed_sections": [],
      "authorship_tag": "ABX9TyNOBjRyfqHsYlLoeEQJqC78"
    },
    "kernelspec": {
      "name": "python3",
      "display_name": "Python 3"
    }
  },
  "cells": [
    {
      "cell_type": "code",
      "metadata": {
        "id": "bQ26X9faPz4B",
        "colab_type": "code",
        "colab": {}
      },
      "source": [
        ""
      ],
      "execution_count": null,
      "outputs": []
    },
    {
      "cell_type": "markdown",
      "metadata": {
        "id": "WNVPz8CiQCxe",
        "colab_type": "text"
      },
      "source": [
        "# \"Plotting with pairgrids\"\n",
        "\n",
        "- toc: true\n",
        "- badges: true\n",
        "- comments: true\n",
        "- categories: [misc]"
      ]
    },
    {
      "cell_type": "code",
      "metadata": {
        "id": "-IQSluQoQAAX",
        "colab_type": "code",
        "colab": {}
      },
      "source": [
        "#hide\n",
        "from IPython.display import Image as IPImage\n",
        "\n",
        "def show_image(url):\n",
        "  display(IPImage(url=url))\n",
        "\n",
        "def blog_image(fn):\n",
        "  show_image(\"https://joedockrill.github.io/blog/images/\" + fn)"
      ],
      "execution_count": 2,
      "outputs": []
    },
    {
      "cell_type": "markdown",
      "metadata": {
        "id": "1BTyuR5nQPNg",
        "colab_type": "text"
      },
      "source": [
        "I’m just sorting out some of my plotting code into a reusable module and I’ve just discovered how cool pairgrids are. Between Matplotlib and Seaborn there isn’t much you can’t do but there’s so much of it that for Python beginners like me it can take some time to discover it all.\n",
        "\n",
        "For initial data exploration, facetgrids are very useful. We make some kind of x,y plot like money_spent/time_of_day but then split it by some other facet like day_of_week to give us 7 plots instead of one. I used them in my initial titanic exploration to split by passenger class."
      ]
    },
    {
      "cell_type": "code",
      "metadata": {
        "id": "OBbRMK0oQg_Y",
        "colab_type": "code",
        "colab": {}
      },
      "source": [
        "g = sns.FacetGrid(data=df, col=\"Pclass\")\n",
        "g.map(sns.distplot, \"Survived\", kde=False, bins=[0,1,2])"
      ],
      "execution_count": null,
      "outputs": []
    },
    {
      "cell_type": "code",
      "metadata": {
        "id": "xmiYUXHbQvcK",
        "colab_type": "code",
        "colab": {
          "base_uri": "https://localhost:8080/",
          "height": 238
        },
        "outputId": "f5c62c02-3d86-42a7-bcac-d379f3c684f0"
      },
      "source": [
        "#hide_input\n",
        "blog_image(\"fg_men.png\")"
      ],
      "execution_count": 7,
      "outputs": [
        {
          "output_type": "display_data",
          "data": {
            "text/html": [
              "<img src=\"https://joedockrill.github.io/blog/images/fg_men.png\"/>"
            ],
            "text/plain": [
              "<IPython.core.display.Image object>"
            ]
          },
          "metadata": {
            "tags": []
          }
        }
      ]
    },
    {
      "cell_type": "markdown",
      "metadata": {
        "id": "VH8goZgySSZ7",
        "colab_type": "text"
      },
      "source": [
        "Pairgrids allow us to choose a variable of interest (like Survived) and plot it against all the other variables at once. This very quickly allows us to see the relationships in the data, and the way I’ve carved up the data so far, it allows us to see that there are very different relationships between certain variables depending on who (or rather what) you are.\n",
        "\n",
        "Children with a large number of siblings don’t do well. Women start to do badly as their family size increases, but for men it doesn’t make that much difference. This is already pointing us towards some of the interactions we’re going to need to add to our model."
      ]
    },
    {
      "cell_type": "code",
      "metadata": {
        "id": "jA9esh5cSVb_",
        "colab_type": "code",
        "colab": {
          "base_uri": "https://localhost:8080/",
          "height": 622
        },
        "outputId": "5f7ed654-a44e-4335-9ea7-6389bb1d1b86"
      },
      "source": [
        "#hide_input\n",
        "blog_image(\"log_pg_men.png\")\n",
        "blog_image(\"log_pg_women.png\")\n",
        "blog_image(\"log_pg_children.png\")"
      ],
      "execution_count": 8,
      "outputs": [
        {
          "output_type": "display_data",
          "data": {
            "text/html": [
              "<img src=\"https://joedockrill.github.io/blog/images/log_pg_men.png\"/>"
            ],
            "text/plain": [
              "<IPython.core.display.Image object>"
            ]
          },
          "metadata": {
            "tags": []
          }
        },
        {
          "output_type": "display_data",
          "data": {
            "text/html": [
              "<img src=\"https://joedockrill.github.io/blog/images/log_pg_women.png\"/>"
            ],
            "text/plain": [
              "<IPython.core.display.Image object>"
            ]
          },
          "metadata": {
            "tags": []
          }
        },
        {
          "output_type": "display_data",
          "data": {
            "text/html": [
              "<img src=\"https://joedockrill.github.io/blog/images/log_pg_children.png\"/>"
            ],
            "text/plain": [
              "<IPython.core.display.Image object>"
            ]
          },
          "metadata": {
            "tags": []
          }
        }
      ]
    },
    {
      "cell_type": "code",
      "metadata": {
        "id": "gU1SoFoiSf0e",
        "colab_type": "code",
        "colab": {}
      },
      "source": [
        "def LogisticPairPlot(df, y, exclude_cols=None):\n",
        "  values = df.columns.tolist()\n",
        "  values.remove(y)\n",
        "    \n",
        "  for col in df.columns:\n",
        "    #drop non-numeric cols\n",
        "    if np.issubdtype(df.dtypes[df.columns.get_loc(col)], np.number) == False:\n",
        "      values.remove(col) \n",
        "\n",
        "  if exclude_cols is not None:\n",
        "    for col in exclude_cols: values.remove(col)\n",
        "    \n",
        "  g = sns.PairGrid(df, y_vars=y, x_vars=values)\n",
        "  g.map(sns.regplot, logistic=True, ci=None)\n",
        " \n",
        "LogisticPairPlot(df, \"Survived\", [\"PassengerId\"])"
      ],
      "execution_count": null,
      "outputs": []
    }
  ]
}