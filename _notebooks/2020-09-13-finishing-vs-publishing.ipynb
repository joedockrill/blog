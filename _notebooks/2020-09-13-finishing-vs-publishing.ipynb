{
  "nbformat": 4,
  "nbformat_minor": 0,
  "metadata": {
    "colab": {
      "name": "2020-09-13-finishing-vs-publishing.ipynb",
      "provenance": [],
      "authorship_tag": "ABX9TyNnQL2U9mS1m8mvWnrlfn3q"
    },
    "kernelspec": {
      "name": "python3",
      "display_name": "Python 3"
    }
  },
  "cells": [
    {
      "cell_type": "markdown",
      "metadata": {
        "id": "8SJ-B2ixVe2g",
        "colab_type": "text"
      },
      "source": [
        "# \"Finishing vs Publishing\"\n",
        "> \"Increasing productivity for creatives\"\n",
        "\n",
        "- toc: true\n",
        "- badges: true\n",
        "- comments: true\n",
        "- categories: [Misc]"
      ]
    },
    {
      "cell_type": "markdown",
      "metadata": {
        "id": "heR9JT_OVhQ5",
        "colab_type": "text"
      },
      "source": [
        "The following is a talk given by a musician called Jack Conte on how to increase productivity and is well worth 10 minutes of your day.\n",
        "\n",
        "It is told from the perspective of his work as a musician, but the lessons apply to all creatives. That includes **you** as a software developer. It can be difficult sometimes to stop yourself getting sucked into a hole of endless tweaking towards a perfection which never actually comes. You owe it to yourself to learn when to **stop** and **learn to publish**.\n",
        "\n",
        "> youtube: https://www.youtube.com/watch?v=5EuWCFCgy58"
      ]
    }
  ]
}