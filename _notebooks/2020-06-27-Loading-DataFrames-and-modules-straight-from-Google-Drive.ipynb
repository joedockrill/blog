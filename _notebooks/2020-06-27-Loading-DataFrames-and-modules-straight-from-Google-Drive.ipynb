{
  "nbformat": 4,
  "nbformat_minor": 0,
  "metadata": {
    "colab": {
      "name": "2020-06-27-Loading-DataFrames-and-modules-straight-from-Google-Drive.ipynb",
      "provenance": [],
      "authorship_tag": "ABX9TyMYo0fO2XypyYZkWmw60Bck"
    },
    "kernelspec": {
      "name": "python3",
      "display_name": "Python 3"
    }
  },
  "cells": [
    {
      "cell_type": "markdown",
      "metadata": {
        "id": "jxBM-VjghoVj",
        "colab_type": "text"
      },
      "source": [
        "# \"Loading DataFrames and modules straight from Google Drive\"\n",
        "\n",
        "- toc: true\n",
        "- badges: true\n",
        "- comments: true\n",
        "- categories: [TipOfTheDay]"
      ]
    },
    {
      "cell_type": "markdown",
      "metadata": {
        "id": "fkhlz5dFhpHh",
        "colab_type": "text"
      },
      "source": [
        "Noob tip of the day. I love [Colab](https://colab.research.google.com/). I use it for everything.\n",
        "\n",
        "Up until now I’ve been keeping my data on Google Drive and loading it by mapping my drive at the top of the notebook, like this."
      ]
    },
    {
      "cell_type": "code",
      "metadata": {
        "id": "s7ptEqT_hp37",
        "colab_type": "code",
        "colab": {}
      },
      "source": [
        "from google.colab import drive\n",
        "drive.mount(\"/content/drive\")\n",
        "df = pd.read_csv(\"/content/drive/My Drive/Python/Data/Titanic/train.csv\")"
      ],
      "execution_count": null,
      "outputs": []
    },
    {
      "cell_type": "markdown",
      "metadata": {
        "id": "5grhiaRUiBc2",
        "colab_type": "text"
      },
      "source": [
        "That’s ok except that every time you run the notebook you have to click a link the first time it does the drive.mount() and go get an auth token to paste back into the notebook cell. It also means nobody else can run this notebook as they’d have to be able to log into my Google account to at the data.\n",
        "\n",
        "I’ve (only) just discovered that read_csv() can load a file straight from a url, so you can load your data from Google Drive like this.\n",
        "\n",
        "Get a sharing link for your file in Drive that everyone can read. It’ll look like this: https://drive.google.com/file/d/**1gSVUZhh8w-GbJz9yaJVfSv_XmOBPncXPr**/view?usp=sharing\n",
        "\n",
        "Remove the file id (in bold) and add it to this url instead:\n",
        "https://drive.google.com/uc?export=download&id=**1gSVUZhh8w-GbJz9yaJVfSv_XmOBPncXPr**\n",
        "\n",
        "You can also find Google drive [sharing->download link converters](https://sites.google.com/site/gdocs2direct/home) where you can cut & paste your link in."
      ]
    },
    {
      "cell_type": "code",
      "metadata": {
        "id": "gVfL77L0idbq",
        "colab_type": "code",
        "colab": {}
      },
      "source": [
        "#then you can \n",
        "import pandas as pd\n",
        "url = \"https://drive.google.com/uc?export=download&id=1gSVUZhh8w-GbJz9yaJVfSv_XmOBPncXPr\"\n",
        "df = pd.read_csv(url)"
      ],
      "execution_count": null,
      "outputs": []
    },
    {
      "cell_type": "markdown",
      "metadata": {
        "id": "FcUGKoiFjmFr",
        "colab_type": "text"
      },
      "source": [
        "If you have custom modules stored on drive you can load them in a very similar way."
      ]
    },
    {
      "cell_type": "code",
      "metadata": {
        "id": "zhE4ROQtjnjd",
        "colab_type": "code",
        "colab": {}
      },
      "source": [
        "from urllib.request import urlretrieve\n",
        "import os\n",
        " \n",
        "def download(url, file):\n",
        "  if not os.path.isfile(file):\n",
        "    print(\"Downloading file:\", file)\n",
        "    urlretrieve(url, file)\n",
        "    print(\"Done\")\n",
        " \n",
        "url_module = \"https://drive.google.com/uc?export=download&id=1KJeTUhMF6hbw1nGbWop5_atYInatLl2k\"\n",
        "download(url_module, \"your_module.py\")\n",
        " \n",
        "import your_module as lolorcopters"
      ],
      "execution_count": null,
      "outputs": []
    }
  ]
}