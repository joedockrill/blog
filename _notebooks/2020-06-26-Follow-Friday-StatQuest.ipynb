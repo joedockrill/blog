{
  "nbformat": 4,
  "nbformat_minor": 0,
  "metadata": {
    "colab": {
      "name": "2020-06-26-Follow-Friday-StatQuest.ipynb",
      "provenance": [],
      "authorship_tag": "ABX9TyNRL6MK2KDHDDFAnecDmBG5"
    },
    "kernelspec": {
      "name": "python3",
      "display_name": "Python 3"
    }
  },
  "cells": [
    {
      "cell_type": "markdown",
      "metadata": {
        "id": "FRGsuH1ogH2f",
        "colab_type": "text"
      },
      "source": [
        "# \"Follow Friday: StatQuest with Josh Starmer\"\n",
        "\n",
        "- toc: true\n",
        "- badges: true\n",
        "- comments: true\n",
        "- categories: [FollowFriday]"
      ]
    },
    {
      "cell_type": "markdown",
      "metadata": {
        "id": "O8MUnGoCgROr",
        "colab_type": "text"
      },
      "source": [
        "I don’t know if Follow Friday is still a thing. It used to be a thing in the blogiverse anyway, and if doesn’t exist any more then it should.\n",
        "\n",
        "One recommendation every Friday of someone or something that I think you should be following.\n",
        "\n",
        "Today it’s [StatQuest with Josh Starmer](https://www.youtube.com/user/joshstarmer) on YouTube. His explanations are by far the easiest to follow I’ve ever come across, even on some quite complicated topics. He avoids formulas and jargon as much as possible and has literally only managed to confuse me once. (In his defense it was a video about a kernel function which exists in infinite dimensions)."
      ]
    }
  ]
}