{
  "nbformat": 4,
  "nbformat_minor": 0,
  "metadata": {
    "colab": {
      "name": "2020-06-24-Tableau-rocks.ipynb",
      "provenance": [],
      "authorship_tag": "ABX9TyOLKjaajLWiBDbygumj2oEC"
    },
    "kernelspec": {
      "name": "python3",
      "display_name": "Python 3"
    }
  },
  "cells": [
    {
      "cell_type": "markdown",
      "metadata": {
        "id": "tH6xaDvNYxbO",
        "colab_type": "text"
      },
      "source": [
        "# \"Tableau rocks\"\n",
        "> \"And I normally hate stuff like this\"\n",
        "\n",
        "- toc: true\n",
        "- badges: true\n",
        "- comments: true\n",
        "- categories: [Misc]"
      ]
    },
    {
      "cell_type": "markdown",
      "metadata": {
        "id": "IZgUsi7hZH4C",
        "colab_type": "text"
      },
      "source": [
        "I’m not the worlds biggest fan of all singing and dancing viz dashboards, but the fact is that there are going to be times when they are useful, and at some point you are probably going to work under important people who *love* visualizations.\n",
        "\n",
        "I’m very impressed with Tableau. To be honest, when you’ve been around for as long as I have, you get used to be various bits of software like this being market leaders in their little niches because they’re the least dreadful option at what they do. That was depressingly normal for a long time although I’m glad to say it’s getting much rarer.\n",
        "\n",
        "Still it’s so nice to find something which just works the way it should (and all the more surprising to find that Google has a rival product which is actually *really* bad!).\n",
        "\n",
        "Below is a mickey-mouse hello world viz which literally takes about 2 mins to produce but it gives you an idea of the kind of thing you can produce and the way people can interact with them.\n",
        "\n",
        "If you’re new and you’ve never seen Tableau you can go and download the free version [here](https://public.tableau.com/en-us/s/)."
      ]
    },
    {
      "cell_type": "markdown",
      "metadata": {
        "id": "e_V23IOtaEZK",
        "colab_type": "text"
      },
      "source": [
        "<div class='tableauPlaceholder' id='viz1597432657044' style='position: relative'><noscript><a href='#'><img alt=' ' src='https:&#47;&#47;public.tableau.com&#47;static&#47;images&#47;2K&#47;2KW38M37D&#47;1_rss.png' style='border: none' /></a></noscript><object class='tableauViz'  style='display:none;'><param name='host_url' value='https%3A%2F%2Fpublic.tableau.com%2F' /> <param name='embed_code_version' value='3' /> <param name='path' value='shared&#47;2KW38M37D' /> <param name='toolbar' value='yes' /><param name='static_image' value='https:&#47;&#47;public.tableau.com&#47;static&#47;images&#47;2K&#47;2KW38M37D&#47;1.png' /> <param name='animate_transition' value='yes' /><param name='display_static_image' value='yes' /><param name='display_spinner' value='yes' /><param name='display_overlay' value='yes' /><param name='display_count' value='yes' /><param name='language' value='en' /></object></div>                <script type='text/javascript'>                    var divElement = document.getElementById('viz1597432657044');                    var vizElement = divElement.getElementsByTagName('object')[0];                    if ( divElement.offsetWidth > 800 ) { vizElement.style.minWidth='420px';vizElement.style.maxWidth='650px';vizElement.style.width='100%';vizElement.style.minHeight='587px';vizElement.style.maxHeight='887px';vizElement.style.height=(divElement.offsetWidth*0.75)+'px';} else if ( divElement.offsetWidth > 500 ) { vizElement.style.minWidth='420px';vizElement.style.maxWidth='650px';vizElement.style.width='100%';vizElement.style.minHeight='587px';vizElement.style.maxHeight='887px';vizElement.style.height=(divElement.offsetWidth*0.75)+'px';} else { vizElement.style.width='100%';vizElement.style.height='727px';}                     var scriptElement = document.createElement('script');                    scriptElement.src = 'https://public.tableau.com/javascripts/api/viz_v1.js';                    vizElement.parentNode.insertBefore(scriptElement, vizElement);                </script>"
      ]
    }
  ]
}