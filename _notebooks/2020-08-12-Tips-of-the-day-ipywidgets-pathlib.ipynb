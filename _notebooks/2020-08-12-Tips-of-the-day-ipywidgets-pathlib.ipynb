{
  "nbformat": 4,
  "nbformat_minor": 0,
  "metadata": {
    "colab": {
      "name": "2020-08-12-Tips-of-the-day-ipywidgets-pathlib.ipynb",
      "provenance": [],
      "authorship_tag": "ABX9TyPzYfM6pLgV61Ec4XRx/x3x"
    },
    "kernelspec": {
      "name": "python3",
      "display_name": "Python 3"
    }
  },
  "cells": [
    {
      "cell_type": "markdown",
      "metadata": {
        "id": "h-RRFngDla2O",
        "colab_type": "text"
      },
      "source": [
        "# \"Tip(s) of the day: ipywidgets & pathlib\"\n",
        "\n",
        "- toc: true\n",
        "- badges: true\n",
        "- comments: true\n",
        "- categories: [TipOfTheDay]"
      ]
    },
    {
      "cell_type": "markdown",
      "metadata": {
        "id": "5yHVvAjqldZ8",
        "colab_type": "text"
      },
      "source": [
        "I’ve just rewritten the image cleaner in my image scraper notebook (it was poop) and I have a couple of quick take-aways for you.\n",
        "\n",
        "1) You should be using pathlib instead of os for file/folder path shenanigans. It’s so much easier to code and your code is so much easier to read. If you’re new to python and you’re using os and glob and shutil and whatever else, go and learn pathlib now.\n",
        "\n",
        "2) ipywidgets are still great and I’m still a big fan, but it turns out that creating new widgets is about 10x slower than updating existing ones. Since you anyway tend to end up with functions which generate your UI, it’s tempting to render new widgets when you need to redraw the UI by just calling the function(s) again. Don’t. It probably also goes against what you’ve been taught to have lots of global variables laying around containing UI values and containers etc. Do it anyway."
      ]
    }
  ]
}