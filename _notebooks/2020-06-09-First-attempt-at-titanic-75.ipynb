{
  "nbformat": 4,
  "nbformat_minor": 0,
  "metadata": {
    "colab": {
      "name": "2020-06-09-First-attempt-at-titanic-75.ipynb",
      "provenance": [],
      "collapsed_sections": [],
      "authorship_tag": "ABX9TyN0Y7lU9yPKmi3Gf/7mUjCS"
    },
    "kernelspec": {
      "name": "python3",
      "display_name": "Python 3"
    }
  },
  "cells": [
    {
      "cell_type": "markdown",
      "metadata": {
        "id": "njokwHTXUmIB",
        "colab_type": "text"
      },
      "source": [
        "# \"First attempt at Titanic: 75%\"\n",
        "> \"I am not impressed\"\n",
        "\n",
        "- toc: true\n",
        "- badges: true\n",
        "- comments: true\n",
        "- categories: [Kaggle, Titanic]"
      ]
    },
    {
      "cell_type": "markdown",
      "metadata": {
        "id": "3YKg58daU3u0",
        "colab_type": "text"
      },
      "source": [
        "I’ve finished my first attempt at the titanic survivors competition on kaggle and I scored 75%.\n",
        "\n",
        "My disappointment (unlike my accuracy), is immeasurable.\n",
        "\n",
        "I did manage a score of 77% in the beginning but I realised that I was doing some ugly stuff which should never see the light of day so now I have a score of 75 i can actually trust.\n",
        "\n",
        "I’ll go back to this later and see what I can do with it but I really need to get on with the rest of my course now.\n",
        "\n",
        "If you’re interested, the notebook is [here](https://www.kaggle.com/joedockrill/titanic-1st-crack-75-pcnt). "
      ]
    }
  ]
}