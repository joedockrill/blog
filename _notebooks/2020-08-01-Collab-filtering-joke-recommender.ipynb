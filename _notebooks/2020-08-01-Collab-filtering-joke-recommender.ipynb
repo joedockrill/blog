{
  "nbformat": 4,
  "nbformat_minor": 0,
  "metadata": {
    "colab": {
      "name": "2020-08-01-Collab-filtering-joke-recommender.ipynb",
      "provenance": [],
      "authorship_tag": "ABX9TyNM5PPZ+RloGQ5MakgwdbvH"
    },
    "kernelspec": {
      "name": "python3",
      "display_name": "Python 3"
    }
  },
  "cells": [
    {
      "cell_type": "markdown",
      "metadata": {
        "id": "kAGgCxl0Z5Ce",
        "colab_type": "text"
      },
      "source": [
        "# \"Collab filtering joke recommender\"\n",
        "\n",
        "- toc: true\n",
        "- badges: true\n",
        "- comments: true\n",
        "- categories: [Demo]"
      ]
    },
    {
      "cell_type": "markdown",
      "metadata": {
        "id": "9GRntkgIZ5un",
        "colab_type": "text"
      },
      "source": [
        "I’ve just finished a new demo project which is a fastai collaborative filtering model trained on the [Jester dataset](http://eigentaste.berkeley.edu/dataset/) as a joke recommender system.\n",
        "\n",
        "If you don’t know what a collab filtering model is for, it’s what powers the recommender systems you find on websites like Netflix or Amazon. It allows you to make predictions about how high or low someone will rate an item based on ratings they’ve already made, combined with ratings other users have made.\n",
        "\n",
        "You can use a collab model to predict which items a user might like (and how much), or you can even start digging embedding matrices out of the model and use PCA to discover what parameters it’s figured out for you.\n",
        "\n",
        "You can play with a working demo [here](https://joedockrill.herokuapp.com/voila/render/JesterCollabDemo.ipynb), and the repo is [here](https://github.com/joedockrill/jester-collab-filtering)."
      ]
    }
  ]
}