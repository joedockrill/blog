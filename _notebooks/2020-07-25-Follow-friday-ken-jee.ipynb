{
  "nbformat": 4,
  "nbformat_minor": 0,
  "metadata": {
    "colab": {
      "name": "2020-07-25-Follow-friday-ken-jee.ipynb",
      "provenance": [],
      "authorship_tag": "ABX9TyMF6xdD9winKUrJrkVWWNia"
    },
    "kernelspec": {
      "name": "python3",
      "display_name": "Python 3"
    }
  },
  "cells": [
    {
      "cell_type": "markdown",
      "metadata": {
        "id": "LUvYhwkRQrJK",
        "colab_type": "text"
      },
      "source": [
        "# \"Follow Friday: Ken Jee\"\n",
        "\n",
        "- toc: true\n",
        "- badges: true\n",
        "- comments: true\n",
        "- categories: [FollowFriday]"
      ]
    },
    {
      "cell_type": "markdown",
      "metadata": {
        "id": "YRdMpqjNQxO1",
        "colab_type": "text"
      },
      "source": [
        "Yes it’s Saturday and I’m really rubbish at remembering to do these at all, shhhh.\n",
        "\n",
        "Ken Jee has a great [YouTube channel](http://youtube.com/c/kenjee1) with lots of helpful content for beginners, and he’s just got himself a [Kaggle account](https://www.kaggle.com/kenjee) too. You should check him out."
      ]
    }
  ]
}