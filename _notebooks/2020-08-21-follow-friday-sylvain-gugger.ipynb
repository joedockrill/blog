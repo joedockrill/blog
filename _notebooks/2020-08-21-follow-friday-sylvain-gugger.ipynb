{
  "nbformat": 4,
  "nbformat_minor": 0,
  "metadata": {
    "colab": {
      "name": "2020-08-21-follow-friday-sylvain-gugger.ipynb",
      "provenance": [],
      "collapsed_sections": [],
      "authorship_tag": "ABX9TyPM5EvYS6EX7GHqqP09Be1V"
    },
    "kernelspec": {
      "name": "python3",
      "display_name": "Python 3"
    }
  },
  "cells": [
    {
      "cell_type": "markdown",
      "metadata": {
        "id": "oiaxqUPTmumA",
        "colab_type": "text"
      },
      "source": [
        "# \"Follow Friday: Sylvain Gugger\"\n",
        "> \"And it's actually friday!\"\n",
        "\n",
        "- toc: true\n",
        "- badges: true\n",
        "- comments: true\n",
        "- categories: [FollowFriday]"
      ]
    },
    {
      "cell_type": "markdown",
      "metadata": {
        "id": "JAnY_ByinDd1",
        "colab_type": "text"
      },
      "source": [
        "Sylvain Gugger is a very clever little dude. He is one of the 2 core developers of [fast.ai](http://www.fast.ai), research engineer at [huggingface](https://huggingface.co/) which does some mentally good looking NLP stuff, and co-author of [the fast.ai book](https://www.amazon.com/Deep-Learning-Coders-fastai-PyTorch/dp/1492045527). [His blog](https://sgugger.github.io/) is rather short but still worth checking out. "
      ]
    }
  ]
}