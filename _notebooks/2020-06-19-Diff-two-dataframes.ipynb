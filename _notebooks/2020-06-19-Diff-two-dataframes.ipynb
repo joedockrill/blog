{
  "nbformat": 4,
  "nbformat_minor": 0,
  "metadata": {
    "colab": {
      "name": "2020-06-19-Diff-two-dataframes.ipynb",
      "provenance": [],
      "collapsed_sections": [],
      "authorship_tag": "ABX9TyPOCHEcK/hPjAJi63PD1qfp"
    },
    "kernelspec": {
      "name": "python3",
      "display_name": "Python 3"
    }
  },
  "cells": [
    {
      "cell_type": "markdown",
      "metadata": {
        "id": "VzjLbmPwV5yO",
        "colab_type": "text"
      },
      "source": [
        "# \"Diff two DataFrames\"\n",
        "> \"Code snippet to show you the differences between two DataFrames \"\n",
        "\n",
        "- toc: true\n",
        "- badges: true\n",
        "- comments: true\n",
        "- categories: [misc]"
      ]
    },
    {
      "cell_type": "markdown",
      "metadata": {
        "id": "160UBoCTWNsJ",
        "colab_type": "text"
      },
      "source": [
        "I was just tracking down a bug (it turns out that Python’s datetime handling is a lot of fun) and I came across a very cute bit of code for dumping out the differences between two dataframes.\n",
        "\n",
        "You’re welcome."
      ]
    },
    {
      "cell_type": "code",
      "metadata": {
        "id": "mFQLy5CUWJ9X",
        "colab_type": "code",
        "colab": {}
      },
      "source": [
        "def DiffDataFrames(df1, df2):\n",
        "  ne_stacked = (df1 != df2).stack()\n",
        "  changed = ne_stacked[ne_stacked]\n",
        "  changed.index.names = ['ID', 'Column']\n",
        "    \n",
        "  difference_locations = np.where(df1 != df2)\n",
        "  changed_from = df1.values[difference_locations]\n",
        "  changed_to = df2.values[difference_locations]\n",
        "\n",
        "  diff = pd.DataFrame({'DF1': changed_from, 'DF2': changed_to}, index=changed.index)\n",
        "  return diff"
      ],
      "execution_count": null,
      "outputs": []
    }
  ]
}