{
  "nbformat": 4,
  "nbformat_minor": 0,
  "metadata": {
    "colab": {
      "name": "2020-07-14-Clown-classification-with-fastai.ipynb",
      "provenance": [],
      "authorship_tag": "ABX9TyOCaYWZl3gONBwAMHZqO/Mn"
    },
    "kernelspec": {
      "name": "python3",
      "display_name": "Python 3"
    }
  },
  "cells": [
    {
      "cell_type": "markdown",
      "metadata": {
        "id": "cPpKF-woAaXR",
        "colab_type": "text"
      },
      "source": [
        "# \"Clown classification with Fastai\"\n",
        "> \"My Hello world! of computer vision\"\n",
        "\n",
        "- toc: true\n",
        "- badges: true\n",
        "- comments: true\n",
        "- categories: [DL,Demos]"
      ]
    },
    {
      "cell_type": "code",
      "metadata": {
        "id": "SUQ_rk5pAYsq",
        "colab_type": "code",
        "colab": {}
      },
      "source": [
        "#hide\n",
        "from IPython.display import Image as IPImage\n",
        "\n",
        "def show_image(url):\n",
        "  display(IPImage(url=url))\n",
        "\n",
        "def blog_image(fn):\n",
        "  show_image(\"https://joedockrill.github.io/blog/images/\" + fn)"
      ],
      "execution_count": 1,
      "outputs": []
    },
    {
      "cell_type": "markdown",
      "metadata": {
        "id": "Mfz3i07SA1JE",
        "colab_type": "text"
      },
      "source": [
        "Lesson 2 of the [fastai course](http://course.fast.ai) done and I’ve created a model for classifying photos of clowns into nice or scary."
      ]
    },
    {
      "cell_type": "code",
      "metadata": {
        "id": "W2FJ556UBJrX",
        "colab_type": "code",
        "colab": {
          "base_uri": "https://localhost:8080/",
          "height": 358
        },
        "outputId": "cccdc8bb-2232-4819-f447-2b3ab218262e"
      },
      "source": [
        "#hide_input\n",
        "blog_image(\"clown_demo.jpg\")"
      ],
      "execution_count": 3,
      "outputs": [
        {
          "output_type": "display_data",
          "data": {
            "text/html": [
              "<img src=\"https://joedockrill.github.io/blog/images/clown_demo.jpg\"/>"
            ],
            "text/plain": [
              "<IPython.core.display.Image object>"
            ]
          },
          "metadata": {
            "tags": []
          }
        }
      ]
    },
    {
      "cell_type": "markdown",
      "metadata": {
        "id": "XOYQq2wEBR9-",
        "colab_type": "text"
      },
      "source": [
        "You can go and [play with it](https://joedockrill.herokuapp.com/voila/render/ClownClassifier.ipynb) on Heroku. It takes a few seconds to load up."
      ]
    }
  ]
}