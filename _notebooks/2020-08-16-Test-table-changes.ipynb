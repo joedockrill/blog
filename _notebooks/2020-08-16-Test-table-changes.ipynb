{
  "nbformat": 4,
  "nbformat_minor": 0,
  "metadata": {
    "colab": {
      "name": "2020-08-16-Test-table-changes.ipynb",
      "provenance": [],
      "authorship_tag": "ABX9TyMbN9yQ7W8q9pCl0cRJTiLd"
    },
    "kernelspec": {
      "name": "python3",
      "display_name": "Python 3"
    }
  },
  "cells": [
    {
      "cell_type": "markdown",
      "metadata": {
        "id": "gzc1pcFf0SrQ",
        "colab_type": "text"
      },
      "source": [
        "# \"Test table changes\"\n",
        "> \"Nothing to see here, move along\"\n",
        "\n",
        "- toc: true\n",
        "- badges: true\n",
        "- comments: true\n",
        "- categories: [misc]"
      ]
    },
    {
      "cell_type": "markdown",
      "metadata": {
        "id": "34ObGVHv0b0C",
        "colab_type": "text"
      },
      "source": [
        "This is a markdown table with very long values\n",
        "\n",
        "| Col 1 | Col 2 | Col 3 | Col 4 | Col 5 |\n",
        "|---|---|---|---|---|\n",
        "| This is going to be a really big table | with lots and lots of text | in every cell which will overflow | Lorem ipsum dolor sit amet, consectetur adipiscing elit. Sed varius libero ut tellus egestas tempus. | Mauris eget consequat odio. In eu tempor ligula. |"
      ]
    },
    {
      "cell_type": "code",
      "metadata": {
        "id": "MhBivwLD0Ppa",
        "colab_type": "code",
        "colab": {
          "base_uri": "https://localhost:8080/",
          "height": 148
        },
        "outputId": "fc90af0f-2519-4d9a-b191-f767d7400dd0"
      },
      "source": [
        "import pandas as pd\n",
        "\n",
        "blah = [\n",
        "  \"Lorem ipsum dolor sit amet, consectetur adipiscing elit.\", \n",
        "  \"Sed varius libero ut tellus egestas tempus.\", \n",
        "  \"Mauris eget consequat odio. In eu tempor ligula.\", \n",
        "  \"Proin eget enim vel arcu vulputate vulputate.\", \n",
        "  \"Maecenas gravida vestibulum molestie. Ut facilisis feugiat augue nec ultricies.\", \n",
        "  \"Class aptent taciti sociosqu ad litora torquent per conubia nostra, per inceptos himenaeos.\", \n",
        "  \"Lorem ipsum dolor sit amet, consectetur adipiscing elit.\", \n",
        "  \"Sed at nibh tincidunt, vehicula diam ac, ultrices risus.\", \n",
        "  \"Maecenas consequat auctor ante. Nulla consectetur diam et aliquet feugiat.\"\n",
        "  ]\n",
        "\n",
        "cols = [\"Col{}\".format(i) for i,_ in enumerate(blah)]\n",
        "df = pd.DataFrame(columns=cols)\n",
        "\n",
        "row = {}\n",
        "for i,s in enumerate(blah): row[\"Col{}\".format(i)] = s\n",
        "df.append([row])"
      ],
      "execution_count": 15,
      "outputs": [
        {
          "output_type": "execute_result",
          "data": {
            "text/html": [
              "<div>\n",
              "<style scoped>\n",
              "    .dataframe tbody tr th:only-of-type {\n",
              "        vertical-align: middle;\n",
              "    }\n",
              "\n",
              "    .dataframe tbody tr th {\n",
              "        vertical-align: top;\n",
              "    }\n",
              "\n",
              "    .dataframe thead th {\n",
              "        text-align: right;\n",
              "    }\n",
              "</style>\n",
              "<table border=\"1\" class=\"dataframe\">\n",
              "  <thead>\n",
              "    <tr style=\"text-align: right;\">\n",
              "      <th></th>\n",
              "      <th>Col0</th>\n",
              "      <th>Col1</th>\n",
              "      <th>Col2</th>\n",
              "      <th>Col3</th>\n",
              "      <th>Col4</th>\n",
              "      <th>Col5</th>\n",
              "      <th>Col6</th>\n",
              "      <th>Col7</th>\n",
              "      <th>Col8</th>\n",
              "    </tr>\n",
              "  </thead>\n",
              "  <tbody>\n",
              "    <tr>\n",
              "      <th>0</th>\n",
              "      <td>Lorem ipsum dolor sit amet, consectetur adipis...</td>\n",
              "      <td>Sed varius libero ut tellus egestas tempus.</td>\n",
              "      <td>Mauris eget consequat odio. In eu tempor ligula.</td>\n",
              "      <td>Proin eget enim vel arcu vulputate vulputate.</td>\n",
              "      <td>Maecenas gravida vestibulum molestie. Ut facil...</td>\n",
              "      <td>Class aptent taciti sociosqu ad litora torquen...</td>\n",
              "      <td>Lorem ipsum dolor sit amet, consectetur adipis...</td>\n",
              "      <td>Sed at nibh tincidunt, vehicula diam ac, ultri...</td>\n",
              "      <td>Maecenas consequat auctor ante. Nulla consecte...</td>\n",
              "    </tr>\n",
              "  </tbody>\n",
              "</table>\n",
              "</div>"
            ],
            "text/plain": [
              "                                                Col0  ...                                               Col8\n",
              "0  Lorem ipsum dolor sit amet, consectetur adipis...  ...  Maecenas consequat auctor ante. Nulla consecte...\n",
              "\n",
              "[1 rows x 9 columns]"
            ]
          },
          "metadata": {
            "tags": []
          },
          "execution_count": 15
        }
      ]
    }
  ]
}