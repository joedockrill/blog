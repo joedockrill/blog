{
  "nbformat": 4,
  "nbformat_minor": 0,
  "metadata": {
    "colab": {
      "name": "2020-07-18-Jeremy-Howard-is-a-rock-star.ipynb",
      "provenance": [],
      "collapsed_sections": [],
      "authorship_tag": "ABX9TyMkALt2wZCrtKHspz7Iwvjm"
    },
    "kernelspec": {
      "name": "python3",
      "display_name": "Python 3"
    }
  },
  "cells": [
    {
      "cell_type": "markdown",
      "metadata": {
        "id": "ZjYB-4G7CPPk",
        "colab_type": "text"
      },
      "source": [
        "# \"Jeremy Howard is a rock star\"\n",
        "\n",
        "- toc: true\n",
        "- badges: true\n",
        "- comments: true\n",
        "- categories: [misc]"
      ]
    },
    {
      "cell_type": "markdown",
      "metadata": {
        "id": "ZR3mNNzfCV-v",
        "colab_type": "text"
      },
      "source": [
        "> \"If you can’t explain it simply, you don’t understand it well enough.\"\n",
        "> \n",
        "> **Albert Einstein**\n",
        "\n",
        "&nbsp;\n",
        "> \"Neural nets are black boxes which work by magic and it’s all very complicated and you don’t need to understand what happens inside them.\"\n",
        "> \n",
        "> **Everyone else**\n",
        "\n",
        "&nbsp;\n",
        "> \"Hold my beer. I’m going to show you how to create a neural net in excel.\"\n",
        "> \n",
        "> **Jeremy Howard**\n",
        "\n",
        "\\\n",
        "I’m not kidding by the way. Lesson 4 and 5 of the [fast.ai MOOC](http://course.fast.ai/) has a simple 1 layer NN for colab filtering running in MS Excel. This course is so good…"
      ]
    },
    {
      "cell_type": "code",
      "metadata": {
        "id": "g4V-gp93HTwF",
        "colab_type": "code",
        "colab": {}
      },
      "source": [
        ""
      ],
      "execution_count": null,
      "outputs": []
    }
  ]
}