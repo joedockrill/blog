{
  "nbformat": 4,
  "nbformat_minor": 0,
  "metadata": {
    "colab": {
      "name": "2020-06-24-Random-forest-classifiers.ipynb",
      "provenance": [],
      "authorship_tag": "ABX9TyNX+Akkw5ev08n1a3ES1B59"
    },
    "kernelspec": {
      "name": "python3",
      "display_name": "Python 3"
    }
  },
  "cells": [
    {
      "cell_type": "markdown",
      "metadata": {
        "id": "Sh8m1tKscSxe",
        "colab_type": "text"
      },
      "source": [
        "# \"Random forest classifiers\"\n",
        "\n",
        "- toc: true\n",
        "- badges: true\n",
        "- comments: true\n",
        "- categories: [Misc]"
      ]
    },
    {
      "cell_type": "markdown",
      "metadata": {
        "id": "XRO0gkH6cdEf",
        "colab_type": "text"
      },
      "source": [
        "I’m just learning about how random forests work under the hood. They get quite clever the further you get into it, but the basic premise is still 1000 monkeys on 1000 broken typewriters… :laughing:\n",
        "\n",
        "It's amazing sometimes what works anyway."
      ]
    },
    {
      "cell_type": "code",
      "metadata": {
        "id": "qtW8RNNQeDe0",
        "colab_type": "code",
        "colab": {}
      },
      "source": [
        ""
      ],
      "execution_count": null,
      "outputs": []
    }
  ]
}