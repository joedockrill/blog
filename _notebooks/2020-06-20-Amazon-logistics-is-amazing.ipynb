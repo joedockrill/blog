{
  "nbformat": 4,
  "nbformat_minor": 0,
  "metadata": {
    "colab": {
      "name": "2020-06-20-Amazon-logistics-is-amazing.ipynb",
      "provenance": [],
      "authorship_tag": "ABX9TyO/9XPSlIK0bGiaO+zWtDUc"
    },
    "kernelspec": {
      "name": "python3",
      "display_name": "Python 3"
    }
  },
  "cells": [
    {
      "cell_type": "markdown",
      "metadata": {
        "id": "MQPHX7dVXrJR",
        "colab_type": "text"
      },
      "source": [
        "# \"Amazon logistics is amazing\"\n",
        "\n",
        "- toc: true\n",
        "- badges: true\n",
        "- comments: true\n",
        "- categories: [Misc]"
      ]
    },
    {
      "cell_type": "markdown",
      "metadata": {
        "id": "Cy-irhyPX0Ov",
        "colab_type": "text"
      },
      "source": [
        "I placed an order. They said it would be delivered on Sunday. Then I got a series of messages telling me my order had been split up and dispatched separately so bits of it got to me faster. Then they delivered all 5 parcels to me on the same day. In 3 different vans."
      ]
    }
  ]
}