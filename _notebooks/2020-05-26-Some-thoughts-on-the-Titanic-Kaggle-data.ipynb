{
  "nbformat": 4,
  "nbformat_minor": 0,
  "metadata": {
    "colab": {
      "name": "2020-05-26-Some-thoughts-on-the-Titanic-Kaggle-data.ipynb",
      "provenance": [],
      "authorship_tag": "ABX9TyN8WTfyrKIg3rGX3v8eauEB"
    },
    "kernelspec": {
      "name": "python3",
      "display_name": "Python 3"
    }
  },
  "cells": [
    {
      "cell_type": "markdown",
      "metadata": {
        "id": "8ozRCM21LoVX",
        "colab_type": "text"
      },
      "source": [
        "# \"Some thoughts on the Kaggle Titanic data\"\n",
        "\n",
        "- toc: true\n",
        "- badges: true\n",
        "- comments: true\n",
        "- categories: [Kaggle, Titanic]"
      ]
    },
    {
      "cell_type": "markdown",
      "metadata": {
        "id": "k96G7-UpL69O",
        "colab_type": "text"
      },
      "source": [
        "So it seems the data science equivalent of “Hello World” is the Titanic survivor problem on Kaggle.\n",
        "\n",
        "Some thoughts on the data so far before I download it and start playing:\n",
        "\n",
        "| Variable | Definition |\n",
        "|---|---|\n",
        "| PassengerId\t| ID | \n",
        "| Survived\t| 0 = No, 1 = Yes | \n",
        "| Pclass\t| Ticket class, 1=1st, 2=2nd, 3=3rd | \n",
        "| Name\t| Name| \n",
        "| Sex\t| Sex| \n",
        "| Age\t| Age in years| \n",
        "| SibSp\t| # of siblings / spouses aboard the Titanic| \n",
        "| Parch\t| # of parents / children aboard the Titanic| \n",
        "| Ticket\t| Ticket number| \n",
        "| Fare\t| Passenger fare| \n",
        "| Cabin\t| Cabin number| \n",
        "| Embarked | Port of Embarkation| \n",
        "\n",
        "**Name.**\n",
        "\n",
        "I see a lot of effort going standardising names and I don’t see the value. Is someone known as Colonel as likely to survive as someone known as Mr? Potentially it might be interesting to flag non-standard titles, eg: males NOT known as Mr or Master, females not known as Miss Mrs Mlle, Mme etc, but not to fudge them all to Mr & Mrs.\n",
        "\n",
        "FWIW the full list of titles seems to be:\n",
        "```\n",
        "‘Mr’, ‘Master’, ‘Major’, ‘Rev’, ‘Dr’, ‘Col’, ‘Capt’, ‘Don’, ‘Jonkheer’\n",
        "‘Mrs’, ‘Miss’, ‘Dr’, ‘Ms’, ‘Mlle’, ‘Mme’, ‘Countess’\n",
        "```\n",
        "Note that Dr appears in both male and female titles\n",
        "\n",
        "The names in the data shown in brackets are maiden names as you would expect and this does not appear at first glance to be useful.\n",
        "\n",
        "titanicfacts.net has a passenger list which indicates where certain passengers were employed by others (eg: nanny/maid/manservant/nurse to other_passenger). This is interesting but doesn’t appear to be in our data, at least from the sample rows I’m seeing so far. These account for 38 first class passengers and I assume that this would be a significant factor if I can engineer it back out of the kaggle data.\n",
        "\n",
        "**SibSp/Parch.**\n",
        "\n",
        "Some people are using family size (SibSp + Parch) as an indicator. “Women and children first” surely took precedence over family sizes and the notion of giving up your place for a family member. If this is a factor then I think it needs treating carefully. One thing which is feasible is the idea that people with family members would have spent time and effort of looking after each other, or even just looking for each other (although the latter probably not a significant factor given the time of the accident; most families would probably have been in bed in their cabins). \n",
        "\n",
        "Also Parch as one variable is absurd and needs splitting back to Parents and Children. Similarly (if possible) SibSp to Siblings and Spouse although this is potentially more difficult for older passengers.\n",
        "\n",
        "We know that some children traveled only with a nanny, therefore parch=0 for them. Can I spot those nannies? They must have been more likely to survive.\n",
        "\n",
        "**Ticket.**\n",
        "\n",
        "Some ticket numbers are prefixed PC and W.E.P. – what are these?\n",
        "\n",
        "There were 29 cross-channel passengers who disembarked in cherbourg (france) or queenstown (ireland). I wonder if I can spot these through ticket numbers or other means? I doubt it but worth a look.\n",
        "\n",
        "**Age.**\n",
        "\n",
        "“If the age is estimated, is it in the form of xx.5”. Watch out for that and decide what to do with it. Is there a point at which older passengers may have been more likely to give up their place on a lifeboat for someone younger? How do survival rates by age look between sexes?\n",
        "\n",
        "**Fare.**\n",
        "\n",
        "This varies massively even within passenger classes. Must be useful. Can probably see which passengers had suites. Some high value tickets also contain multiple cabin numbers which also suggests a certain level of affluence.\n",
        "\n",
        "**Cabin.**\n",
        "\n",
        "Cabin numbers (mostly not present) tell you the deck the cabin was on and this is probably interesting.\n",
        "\n",
        "**Embarked.**\n",
        "\n",
        "Probably insignificant. If it’s a significant factor then I’d need to try and understand why.\n",
        "\n",
        "**Other.**\n",
        "\n",
        "One article I read uses squares and products of base variables as indicators and I don’t understand enough about this generally so it’s a tangent I need to go on shortly.\n"
      ]
    }
  ]
}
