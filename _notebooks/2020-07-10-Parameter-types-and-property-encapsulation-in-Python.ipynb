{
  "nbformat": 4,
  "nbformat_minor": 0,
  "metadata": {
    "colab": {
      "name": "2020-07-10-Parameter-types-and-property-encapsulation-in-Python.ipynb",
      "provenance": [],
      "authorship_tag": "ABX9TyPI0/4f1/zi52sR3JGWw2kj"
    },
    "kernelspec": {
      "name": "python3",
      "display_name": "Python 3"
    }
  },
  "cells": [
    {
      "cell_type": "markdown",
      "metadata": {
        "id": "tVq7Mhuom7VB",
        "colab_type": "text"
      },
      "source": [
        "# \"Parameter types and property encapsulation in Python\"\n",
        "> \"Cool Python things which people should be using\"\n",
        "\n",
        "- toc: true\n",
        "- badges: true\n",
        "- comments: true\n",
        "- categories: [misc]"
      ]
    },
    {
      "cell_type": "markdown",
      "metadata": {
        "id": "J8zvNCPFnENt",
        "colab_type": "text"
      },
      "source": [
        "I just discovered a couple of cool new Python things that I don’t understand why people aren’t using.\n",
        "\n",
        "It turns out that you can do this:"
      ]
    },
    {
      "cell_type": "code",
      "metadata": {
        "id": "VY2kYM0Xnrq3",
        "colab_type": "code",
        "colab": {}
      },
      "source": [
        "def test(name:str, age:int):\n",
        "  pass"
      ],
      "execution_count": null,
      "outputs": []
    },
    {
      "cell_type": "markdown",
      "metadata": {
        "id": "A4GNAOvOnyJV",
        "colab_type": "text"
      },
      "source": [
        "But don’t get too excited because the runtime will still let people pass in anything they want so you still need to type check and throw exceptions yourself where appropriate. It’s useful for self-documenting your code, but still…really??"
      ]
    },
    {
      "cell_type": "code",
      "metadata": {
        "id": "UyZ9a4-rn-0w",
        "colab_type": "code",
        "colab": {}
      },
      "source": [
        "class Person:\n",
        "  def __init__(self, name):\n",
        "    self.name = name\n",
        " \n",
        "  @property\n",
        "  def name(self):\n",
        "    return self.__name\n",
        " \n",
        "  @name.setter\n",
        "  def name(self, var):\n",
        "    self.__name = var"
      ],
      "execution_count": null,
      "outputs": []
    },
    {
      "cell_type": "markdown",
      "metadata": {
        "id": "pmn0KfopoAuZ",
        "colab_type": "text"
      },
      "source": [
        "Property encapsulation! I’m very happy about this.\n",
        "\n",
        "If you’re new to programming this is great because it allows you to hide how you store something within your class (which means you can change it later without breaking code all over the place) and more importantly, allows you to insert validation and business rules. Eg: you can make sure person.age can’t be set to a negative number, or check the new product you’re trying to add to this customer isn’t incompatible with anything they already have.\n",
        "\n",
        "Yes I know i can do the same thing with person.get_name() and person.set_name(\"\") but I’m old and set in my ways and I think it’s butt-ugly. Sue me."
      ]
    }
  ]
}