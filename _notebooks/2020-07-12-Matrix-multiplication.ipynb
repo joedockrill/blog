{
  "nbformat": 4,
  "nbformat_minor": 0,
  "metadata": {
    "colab": {
      "name": "2020-07-12-Matrix-multiplication.ipynb",
      "provenance": [],
      "authorship_tag": "ABX9TyPv/uhE43JxUcaAPfxlZloC"
    },
    "kernelspec": {
      "name": "python3",
      "display_name": "Python 3"
    }
  },
  "cells": [
    {
      "cell_type": "markdown",
      "metadata": {
        "id": "gh2GJs2eqYrw",
        "colab_type": "text"
      },
      "source": [
        "# \"Matrix multiplication\"\n",
        "> \"Is simpler than you think\"\n",
        "\n",
        "- toc: true\n",
        "- badges: true\n",
        "- comments: true\n",
        "- categories: [misc]"
      ]
    },
    {
      "cell_type": "code",
      "metadata": {
        "id": "cALSSETIr0rT",
        "colab_type": "code",
        "colab": {}
      },
      "source": [
        "#hide\n",
        "from IPython.display import Image as IPImage\n",
        "\n",
        "def show_image(url):\n",
        "  display(IPImage(url=url))\n",
        "\n",
        "def blog_image(fn):\n",
        "  show_image(\"https://joedockrill.github.io/blog/images/\" + fn)"
      ],
      "execution_count": 1,
      "outputs": []
    },
    {
      "cell_type": "markdown",
      "metadata": {
        "id": "n-DKVJyJqf6W",
        "colab_type": "text"
      },
      "source": [
        "One thing you need to understand as you start getting into ML and DL, is matrix multiplication, and it’s something the bootcamp course I took could perhaps have explained better. To be completely honest I don't remember the last time I saw something so simple get over-complicated so much. \n",
        "\n",
        "[matrixmultiplication.xyz](http://matrixmultiplication.xyz) is brilliant, and I wish I’d have been pointed at it at the time. Sometimes ~~a picture~~ an animation is worth a thousand words."
      ]
    },
    {
      "cell_type": "code",
      "metadata": {
        "id": "Q8YbHdtArwS0",
        "colab_type": "code",
        "colab": {
          "base_uri": "https://localhost:8080/",
          "height": 640
        },
        "outputId": "4e3703d9-0740-420f-bf31-134315864c43"
      },
      "source": [
        "#hide_input\n",
        "blog_image(\"matmul.jpg\")"
      ],
      "execution_count": 4,
      "outputs": [
        {
          "output_type": "display_data",
          "data": {
            "text/html": [
              "<img src=\"https://joedockrill.github.io/blog/images/matmul.jpg\"/>"
            ],
            "text/plain": [
              "<IPython.core.display.Image object>"
            ]
          },
          "metadata": {
            "tags": []
          }
        }
      ]
    }
  ]
}