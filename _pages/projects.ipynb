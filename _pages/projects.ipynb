{
  "nbformat": 4,
  "nbformat_minor": 0,
  "metadata": {
    "colab": {
      "name": "projects.ipynb",
      "provenance": [],
      "authorship_tag": "ABX9TyN01CsqCLc6KnOMICFwIZXA"
    },
    "kernelspec": {
      "name": "python3",
      "display_name": "Python 3"
    }
  },
  "cells": [
    {
      "cell_type": "markdown",
      "metadata": {
        "id": "codTvxLgDWuP",
        "colab_type": "text"
      },
      "source": [
        "# \"Projects\"\n",
        "\n",
        "- toc: true\n",
        "- badges: false\n",
        "- comments: false"
      ]
    },
    {
      "cell_type": "code",
      "metadata": {
        "id": "kPU_Z9_zDhEj",
        "colab_type": "code",
        "colab": {
          "base_uri": "https://localhost:8080/",
          "height": 221
        },
        "outputId": "8d5951d6-cf62-42b9-be65-b8b3480f8ac4"
      },
      "source": [
        "def test(title, desc):\n",
        "  print(title)\n",
        "  print(\"----------\")\n",
        "  print(desc)\n",
        "  print(\"\")\n",
        "\n",
        "test(\"joke recommender\", \"is meh\")\n",
        "test(\"image scraper\", \"is good\")\n",
        "test(\"clown classifier\", \"is poop\")\n"
      ],
      "execution_count": 2,
      "outputs": [
        {
          "output_type": "stream",
          "text": [
            "joke recommender\n",
            "----------\n",
            "is meh\n",
            "\n",
            "image scraper\n",
            "----------\n",
            "is good\n",
            "\n",
            "clown classifier\n",
            "----------\n",
            "is poop\n",
            "\n"
          ],
          "name": "stdout"
        }
      ]
    },
    {
      "cell_type": "code",
      "metadata": {
        "id": "FB5Uat30D_Y1",
        "colab_type": "code",
        "colab": {}
      },
      "source": [
        ""
      ],
      "execution_count": null,
      "outputs": []
    }
  ]
}